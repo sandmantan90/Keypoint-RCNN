{
  "nbformat": 4,
  "nbformat_minor": 0,
  "metadata": {
    "colab": {
      "name": "keypoint_CNN.ipynb",
      "provenance": [],
      "collapsed_sections": []
    },
    "kernelspec": {
      "name": "python3",
      "display_name": "Python 3"
    },
    "accelerator": "GPU",
    "widgets": {
      "application/vnd.jupyter.widget-state+json": {
        "53320d6fe6eb4cedad0a6d3ff9529650": {
          "model_module": "@jupyter-widgets/controls",
          "model_name": "HBoxModel",
          "state": {
            "_view_name": "HBoxView",
            "_dom_classes": [],
            "_model_name": "HBoxModel",
            "_view_module": "@jupyter-widgets/controls",
            "_model_module_version": "1.5.0",
            "_view_count": null,
            "_view_module_version": "1.5.0",
            "box_style": "",
            "layout": "IPY_MODEL_41ea44c847b84e2f8c397b789d6bd632",
            "_model_module": "@jupyter-widgets/controls",
            "children": [
              "IPY_MODEL_c1bf97d540114d5eb882832eb42c66f7",
              "IPY_MODEL_1782bc949b9b42bcb06dc7585813c4a0"
            ]
          }
        },
        "41ea44c847b84e2f8c397b789d6bd632": {
          "model_module": "@jupyter-widgets/base",
          "model_name": "LayoutModel",
          "state": {
            "_view_name": "LayoutView",
            "grid_template_rows": null,
            "right": null,
            "justify_content": null,
            "_view_module": "@jupyter-widgets/base",
            "overflow": null,
            "_model_module_version": "1.2.0",
            "_view_count": null,
            "flex_flow": null,
            "width": null,
            "min_width": null,
            "border": null,
            "align_items": null,
            "bottom": null,
            "_model_module": "@jupyter-widgets/base",
            "top": null,
            "grid_column": null,
            "overflow_y": null,
            "overflow_x": null,
            "grid_auto_flow": null,
            "grid_area": null,
            "grid_template_columns": null,
            "flex": null,
            "_model_name": "LayoutModel",
            "justify_items": null,
            "grid_row": null,
            "max_height": null,
            "align_content": null,
            "visibility": null,
            "align_self": null,
            "height": null,
            "min_height": null,
            "padding": null,
            "grid_auto_rows": null,
            "grid_gap": null,
            "max_width": null,
            "order": null,
            "_view_module_version": "1.2.0",
            "grid_template_areas": null,
            "object_position": null,
            "object_fit": null,
            "grid_auto_columns": null,
            "margin": null,
            "display": null,
            "left": null
          }
        },
        "c1bf97d540114d5eb882832eb42c66f7": {
          "model_module": "@jupyter-widgets/controls",
          "model_name": "FloatProgressModel",
          "state": {
            "_view_name": "ProgressView",
            "style": "IPY_MODEL_48344a87aff147ceb1fcf425e9e48b3c",
            "_dom_classes": [],
            "description": "100%",
            "_model_name": "FloatProgressModel",
            "bar_style": "success",
            "max": 237034793,
            "_view_module": "@jupyter-widgets/controls",
            "_model_module_version": "1.5.0",
            "value": 237034793,
            "_view_count": null,
            "_view_module_version": "1.5.0",
            "orientation": "horizontal",
            "min": 0,
            "description_tooltip": null,
            "_model_module": "@jupyter-widgets/controls",
            "layout": "IPY_MODEL_460aeed0a92540b8aa32890824bc6e46"
          }
        },
        "1782bc949b9b42bcb06dc7585813c4a0": {
          "model_module": "@jupyter-widgets/controls",
          "model_name": "HTMLModel",
          "state": {
            "_view_name": "HTMLView",
            "style": "IPY_MODEL_55d1bed77daa4b6d86b18e804870c5bb",
            "_dom_classes": [],
            "description": "",
            "_model_name": "HTMLModel",
            "placeholder": "​",
            "_view_module": "@jupyter-widgets/controls",
            "_model_module_version": "1.5.0",
            "value": " 226M/226M [00:06&lt;00:00, 39.0MB/s]",
            "_view_count": null,
            "_view_module_version": "1.5.0",
            "description_tooltip": null,
            "_model_module": "@jupyter-widgets/controls",
            "layout": "IPY_MODEL_304507900c2840578fb3bb915ae60d9f"
          }
        },
        "48344a87aff147ceb1fcf425e9e48b3c": {
          "model_module": "@jupyter-widgets/controls",
          "model_name": "ProgressStyleModel",
          "state": {
            "_view_name": "StyleView",
            "_model_name": "ProgressStyleModel",
            "description_width": "initial",
            "_view_module": "@jupyter-widgets/base",
            "_model_module_version": "1.5.0",
            "_view_count": null,
            "_view_module_version": "1.2.0",
            "bar_color": null,
            "_model_module": "@jupyter-widgets/controls"
          }
        },
        "460aeed0a92540b8aa32890824bc6e46": {
          "model_module": "@jupyter-widgets/base",
          "model_name": "LayoutModel",
          "state": {
            "_view_name": "LayoutView",
            "grid_template_rows": null,
            "right": null,
            "justify_content": null,
            "_view_module": "@jupyter-widgets/base",
            "overflow": null,
            "_model_module_version": "1.2.0",
            "_view_count": null,
            "flex_flow": null,
            "width": null,
            "min_width": null,
            "border": null,
            "align_items": null,
            "bottom": null,
            "_model_module": "@jupyter-widgets/base",
            "top": null,
            "grid_column": null,
            "overflow_y": null,
            "overflow_x": null,
            "grid_auto_flow": null,
            "grid_area": null,
            "grid_template_columns": null,
            "flex": null,
            "_model_name": "LayoutModel",
            "justify_items": null,
            "grid_row": null,
            "max_height": null,
            "align_content": null,
            "visibility": null,
            "align_self": null,
            "height": null,
            "min_height": null,
            "padding": null,
            "grid_auto_rows": null,
            "grid_gap": null,
            "max_width": null,
            "order": null,
            "_view_module_version": "1.2.0",
            "grid_template_areas": null,
            "object_position": null,
            "object_fit": null,
            "grid_auto_columns": null,
            "margin": null,
            "display": null,
            "left": null
          }
        },
        "55d1bed77daa4b6d86b18e804870c5bb": {
          "model_module": "@jupyter-widgets/controls",
          "model_name": "DescriptionStyleModel",
          "state": {
            "_view_name": "StyleView",
            "_model_name": "DescriptionStyleModel",
            "description_width": "",
            "_view_module": "@jupyter-widgets/base",
            "_model_module_version": "1.5.0",
            "_view_count": null,
            "_view_module_version": "1.2.0",
            "_model_module": "@jupyter-widgets/controls"
          }
        },
        "304507900c2840578fb3bb915ae60d9f": {
          "model_module": "@jupyter-widgets/base",
          "model_name": "LayoutModel",
          "state": {
            "_view_name": "LayoutView",
            "grid_template_rows": null,
            "right": null,
            "justify_content": null,
            "_view_module": "@jupyter-widgets/base",
            "overflow": null,
            "_model_module_version": "1.2.0",
            "_view_count": null,
            "flex_flow": null,
            "width": null,
            "min_width": null,
            "border": null,
            "align_items": null,
            "bottom": null,
            "_model_module": "@jupyter-widgets/base",
            "top": null,
            "grid_column": null,
            "overflow_y": null,
            "overflow_x": null,
            "grid_auto_flow": null,
            "grid_area": null,
            "grid_template_columns": null,
            "flex": null,
            "_model_name": "LayoutModel",
            "justify_items": null,
            "grid_row": null,
            "max_height": null,
            "align_content": null,
            "visibility": null,
            "align_self": null,
            "height": null,
            "min_height": null,
            "padding": null,
            "grid_auto_rows": null,
            "grid_gap": null,
            "max_width": null,
            "order": null,
            "_view_module_version": "1.2.0",
            "grid_template_areas": null,
            "object_position": null,
            "object_fit": null,
            "grid_auto_columns": null,
            "margin": null,
            "display": null,
            "left": null
          }
        }
      }
    }
  },
  "cells": [
    {
      "cell_type": "code",
      "metadata": {
        "id": "JQ9iLRl50CuJ",
        "colab_type": "code",
        "colab": {
          "base_uri": "https://localhost:8080/",
          "height": 136
        },
        "outputId": "83b18353-c40b-46e8-fee6-bedd4b77747a"
      },
      "source": [
        "!git clone https://github.com/pytorch/vision.git\n",
        "!cp /content/vision/references/detection/*.py /content"
      ],
      "execution_count": null,
      "outputs": [
        {
          "output_type": "stream",
          "text": [
            "Cloning into 'vision'...\n",
            "remote: Enumerating objects: 27, done.\u001b[K\n",
            "remote: Counting objects:   3% (1/27)\u001b[K\rremote: Counting objects:   7% (2/27)\u001b[K\rremote: Counting objects:  11% (3/27)\u001b[K\rremote: Counting objects:  14% (4/27)\u001b[K\rremote: Counting objects:  18% (5/27)\u001b[K\rremote: Counting objects:  22% (6/27)\u001b[K\rremote: Counting objects:  25% (7/27)\u001b[K\rremote: Counting objects:  29% (8/27)\u001b[K\rremote: Counting objects:  33% (9/27)\u001b[K\rremote: Counting objects:  37% (10/27)\u001b[K\rremote: Counting objects:  40% (11/27)\u001b[K\rremote: Counting objects:  44% (12/27)\u001b[K\rremote: Counting objects:  48% (13/27)\u001b[K\rremote: Counting objects:  51% (14/27)\u001b[K\rremote: Counting objects:  55% (15/27)\u001b[K\rremote: Counting objects:  59% (16/27)\u001b[K\rremote: Counting objects:  62% (17/27)\u001b[K\rremote: Counting objects:  66% (18/27)\u001b[K\rremote: Counting objects:  70% (19/27)\u001b[K\rremote: Counting objects:  74% (20/27)\u001b[K\rremote: Counting objects:  77% (21/27)\u001b[K\rremote: Counting objects:  81% (22/27)\u001b[K\rremote: Counting objects:  85% (23/27)\u001b[K\rremote: Counting objects:  88% (24/27)\u001b[K\rremote: Counting objects:  92% (25/27)\u001b[K\rremote: Counting objects:  96% (26/27)\u001b[K\rremote: Counting objects: 100% (27/27)\u001b[K\rremote: Counting objects: 100% (27/27), done.\u001b[K\n",
            "remote: Compressing objects:   3% (1/27)\u001b[K\rremote: Compressing objects:   7% (2/27)\u001b[K\rremote: Compressing objects:  11% (3/27)\u001b[K\rremote: Compressing objects:  14% (4/27)\u001b[K\rremote: Compressing objects:  18% (5/27)\u001b[K\rremote: Compressing objects:  22% (6/27)\u001b[K\rremote: Compressing objects:  25% (7/27)\u001b[K\rremote: Compressing objects:  29% (8/27)\u001b[K\rremote: Compressing objects:  33% (9/27)\u001b[K\rremote: Compressing objects:  37% (10/27)\u001b[K\rremote: Compressing objects:  40% (11/27)\u001b[K\rremote: Compressing objects:  44% (12/27)\u001b[K\rremote: Compressing objects:  48% (13/27)\u001b[K\rremote: Compressing objects:  51% (14/27)\u001b[K\rremote: Compressing objects:  55% (15/27)\u001b[K\rremote: Compressing objects:  59% (16/27)\u001b[K\rremote: Compressing objects:  62% (17/27)\u001b[K\rremote: Compressing objects:  66% (18/27)\u001b[K\rremote: Compressing objects:  70% (19/27)\u001b[K\rremote: Compressing objects:  74% (20/27)\u001b[K\rremote: Compressing objects:  77% (21/27)\u001b[K\rremote: Compressing objects:  81% (22/27)\u001b[K\rremote: Compressing objects:  85% (23/27)\u001b[K\rremote: Compressing objects:  88% (24/27)\u001b[K\rremote: Compressing objects:  92% (25/27)\u001b[K\rremote: Compressing objects:  96% (26/27)\u001b[K\rremote: Compressing objects: 100% (27/27)\u001b[K\rremote: Compressing objects: 100% (27/27), done.\u001b[K\n",
            "Receiving objects:   0% (1/9483)   \rReceiving objects:   1% (95/9483)   \rReceiving objects:   2% (190/9483)   \rReceiving objects:   3% (285/9483)   \rReceiving objects:   4% (380/9483)   \rReceiving objects:   5% (475/9483)   \rReceiving objects:   6% (569/9483)   \rReceiving objects:   7% (664/9483)   \rReceiving objects:   8% (759/9483)   \rReceiving objects:   9% (854/9483)   \rReceiving objects:  10% (949/9483)   \rReceiving objects:  11% (1044/9483)   \rReceiving objects:  12% (1138/9483)   \rReceiving objects:  13% (1233/9483)   \rReceiving objects:  14% (1328/9483)   \rReceiving objects:  15% (1423/9483)   \rReceiving objects:  16% (1518/9483)   \rReceiving objects:  17% (1613/9483)   \rReceiving objects:  18% (1707/9483)   \rReceiving objects:  19% (1802/9483)   \rReceiving objects:  20% (1897/9483)   \rReceiving objects:  21% (1992/9483)   \rReceiving objects:  22% (2087/9483)   \rReceiving objects:  23% (2182/9483)   \rReceiving objects:  24% (2276/9483)   \rReceiving objects:  25% (2371/9483)   \rReceiving objects:  26% (2466/9483)   \rReceiving objects:  27% (2561/9483)   \rReceiving objects:  28% (2656/9483)   \rReceiving objects:  29% (2751/9483)   \rReceiving objects:  30% (2845/9483)   \rReceiving objects:  31% (2940/9483)   \rReceiving objects:  32% (3035/9483)   \rReceiving objects:  33% (3130/9483)   \rReceiving objects:  34% (3225/9483)   \rReceiving objects:  35% (3320/9483)   \rReceiving objects:  36% (3414/9483)   \rReceiving objects:  37% (3509/9483)   \rReceiving objects:  38% (3604/9483)   \rReceiving objects:  39% (3699/9483)   \rReceiving objects:  40% (3794/9483)   \rReceiving objects:  41% (3889/9483)   \rReceiving objects:  42% (3983/9483)   \rReceiving objects:  43% (4078/9483)   \rReceiving objects:  44% (4173/9483)   \rReceiving objects:  45% (4268/9483)   \rReceiving objects:  46% (4363/9483)   \rReceiving objects:  47% (4458/9483)   \rReceiving objects:  48% (4552/9483)   \rReceiving objects:  49% (4647/9483)   \rReceiving objects:  50% (4742/9483)   \rReceiving objects:  51% (4837/9483)   \rReceiving objects:  52% (4932/9483)   \rReceiving objects:  53% (5026/9483)   \rReceiving objects:  54% (5121/9483)   \rReceiving objects:  55% (5216/9483)   \rReceiving objects:  56% (5311/9483)   \rReceiving objects:  57% (5406/9483)   \rReceiving objects:  58% (5501/9483)   \rReceiving objects:  59% (5595/9483)   \rReceiving objects:  60% (5690/9483)   \rReceiving objects:  61% (5785/9483)   \rReceiving objects:  62% (5880/9483)   \rReceiving objects:  63% (5975/9483)   \rReceiving objects:  64% (6070/9483)   \rReceiving objects:  65% (6164/9483)   \rReceiving objects:  66% (6259/9483)   \rReceiving objects:  67% (6354/9483)   \rReceiving objects:  68% (6449/9483)   \rReceiving objects:  69% (6544/9483)   \rReceiving objects:  70% (6639/9483)   \rReceiving objects:  71% (6733/9483)   \rReceiving objects:  72% (6828/9483)   \rReceiving objects:  73% (6923/9483)   \rReceiving objects:  74% (7018/9483), 10.68 MiB | 21.19 MiB/s   \rReceiving objects:  75% (7113/9483), 10.68 MiB | 21.19 MiB/s   \rReceiving objects:  76% (7208/9483), 10.68 MiB | 21.19 MiB/s   \rReceiving objects:  77% (7302/9483), 10.68 MiB | 21.19 MiB/s   \rReceiving objects:  78% (7397/9483), 10.68 MiB | 21.19 MiB/s   \rReceiving objects:  79% (7492/9483), 10.68 MiB | 21.19 MiB/s   \rReceiving objects:  80% (7587/9483), 10.68 MiB | 21.19 MiB/s   \rReceiving objects:  81% (7682/9483), 10.68 MiB | 21.19 MiB/s   \rReceiving objects:  82% (7777/9483), 10.68 MiB | 21.19 MiB/s   \rReceiving objects:  83% (7871/9483), 10.68 MiB | 21.19 MiB/s   \rReceiving objects:  84% (7966/9483), 10.68 MiB | 21.19 MiB/s   \rReceiving objects:  85% (8061/9483), 10.68 MiB | 21.19 MiB/s   \rReceiving objects:  86% (8156/9483), 10.68 MiB | 21.19 MiB/s   \rReceiving objects:  87% (8251/9483), 10.68 MiB | 21.19 MiB/s   \rReceiving objects:  88% (8346/9483), 10.68 MiB | 21.19 MiB/s   \rReceiving objects:  89% (8440/9483), 10.68 MiB | 21.19 MiB/s   \rReceiving objects:  90% (8535/9483), 10.68 MiB | 21.19 MiB/s   \rReceiving objects:  91% (8630/9483), 10.68 MiB | 21.19 MiB/s   \rReceiving objects:  92% (8725/9483), 10.68 MiB | 21.19 MiB/s   \rReceiving objects:  93% (8820/9483), 10.68 MiB | 21.19 MiB/s   \rReceiving objects:  94% (8915/9483), 10.68 MiB | 21.19 MiB/s   \rReceiving objects:  95% (9009/9483), 10.68 MiB | 21.19 MiB/s   \rremote: Total 9483 (delta 9), reused 5 (delta 0), pack-reused 9456\u001b[K\n",
            "Receiving objects:  96% (9104/9483), 10.68 MiB | 21.19 MiB/s   \rReceiving objects:  97% (9199/9483), 10.68 MiB | 21.19 MiB/s   \rReceiving objects:  98% (9294/9483), 10.68 MiB | 21.19 MiB/s   \rReceiving objects:  99% (9389/9483), 10.68 MiB | 21.19 MiB/s   \rReceiving objects: 100% (9483/9483), 10.68 MiB | 21.19 MiB/s   \rReceiving objects: 100% (9483/9483), 11.34 MiB | 18.14 MiB/s, done.\n",
            "Resolving deltas:   0% (0/6573)   \rResolving deltas:   1% (66/6573)   \rResolving deltas:   2% (132/6573)   \rResolving deltas:   3% (207/6573)   \rResolving deltas:   4% (267/6573)   \rResolving deltas:   5% (337/6573)   \rResolving deltas:   6% (401/6573)   \rResolving deltas:   7% (469/6573)   \rResolving deltas:   8% (545/6573)   \rResolving deltas:   9% (592/6573)   \rResolving deltas:  10% (661/6573)   \rResolving deltas:  11% (724/6573)   \rResolving deltas:  12% (815/6573)   \rResolving deltas:  13% (856/6573)   \rResolving deltas:  14% (935/6573)   \rResolving deltas:  15% (992/6573)   \rResolving deltas:  16% (1097/6573)   \rResolving deltas:  17% (1120/6573)   \rResolving deltas:  18% (1187/6573)   \rResolving deltas:  19% (1258/6573)   \rResolving deltas:  20% (1315/6573)   \rResolving deltas:  21% (1386/6573)   \rResolving deltas:  22% (1452/6573)   \rResolving deltas:  23% (1516/6573)   \rResolving deltas:  24% (1579/6573)   \rResolving deltas:  25% (1644/6573)   \rResolving deltas:  26% (1727/6573)   \rResolving deltas:  27% (1778/6573)   \rResolving deltas:  28% (1853/6573)   \rResolving deltas:  29% (1918/6573)   \rResolving deltas:  30% (1984/6573)   \rResolving deltas:  31% (2047/6573)   \rResolving deltas:  32% (2155/6573)   \rResolving deltas:  33% (2171/6573)   \rResolving deltas:  34% (2254/6573)   \rResolving deltas:  35% (2307/6573)   \rResolving deltas:  37% (2465/6573)   \rResolving deltas:  38% (2498/6573)   \rResolving deltas:  39% (2596/6573)   \rResolving deltas:  40% (2637/6573)   \rResolving deltas:  41% (2696/6573)   \rResolving deltas:  42% (2786/6573)   \rResolving deltas:  44% (2896/6573)   \rResolving deltas:  45% (2966/6573)   \rResolving deltas:  46% (3025/6573)   \rResolving deltas:  47% (3094/6573)   \rResolving deltas:  48% (3164/6573)   \rResolving deltas:  49% (3222/6573)   \rResolving deltas:  50% (3327/6573)   \rResolving deltas:  51% (3353/6573)   \rResolving deltas:  52% (3452/6573)   \rResolving deltas:  53% (3492/6573)   \rResolving deltas:  55% (3661/6573)   \rResolving deltas:  56% (3686/6573)   \rResolving deltas:  57% (3808/6573)   \rResolving deltas:  58% (3834/6573)   \rResolving deltas:  59% (3879/6573)   \rResolving deltas:  60% (3947/6573)   \rResolving deltas:  61% (4024/6573)   \rResolving deltas:  62% (4081/6573)   \rResolving deltas:  63% (4141/6573)   \rResolving deltas:  64% (4214/6573)   \rResolving deltas:  65% (4278/6573)   \rResolving deltas:  66% (4345/6573)   \rResolving deltas:  67% (4405/6573)   \rResolving deltas:  68% (4488/6573)   \rResolving deltas:  69% (4556/6573)   \rResolving deltas:  70% (4607/6573)   \rResolving deltas:  71% (4672/6573)   \rResolving deltas:  72% (4734/6573)   \rResolving deltas:  73% (4801/6573)   \rResolving deltas:  74% (4866/6573)   \rResolving deltas:  75% (4931/6573)   \rResolving deltas:  77% (5081/6573)   \rResolving deltas:  78% (5140/6573)   \rResolving deltas:  79% (5242/6573)   \rResolving deltas:  80% (5268/6573)   \rResolving deltas:  81% (5327/6573)   \rResolving deltas:  82% (5394/6573)   \rResolving deltas:  83% (5482/6573)   \rResolving deltas:  84% (5533/6573)   \rResolving deltas:  85% (5588/6573)   \rResolving deltas:  86% (5656/6573)   \rResolving deltas:  87% (5735/6573)   \rResolving deltas:  88% (5785/6573)   \rResolving deltas:  89% (5865/6573)   \rResolving deltas:  90% (5933/6573)   \rResolving deltas:  91% (5986/6573)   \rResolving deltas:  92% (6050/6573)   \rResolving deltas:  93% (6116/6573)   \rResolving deltas:  94% (6179/6573)   \rResolving deltas:  95% (6271/6573)   \rResolving deltas:  96% (6312/6573)   \rResolving deltas:  97% (6393/6573)   \rResolving deltas:  98% (6442/6573)   \rResolving deltas:  99% (6526/6573)   \rResolving deltas: 100% (6573/6573)   \rResolving deltas: 100% (6573/6573), done.\n"
          ],
          "name": "stdout"
        }
      ]
    },
    {
      "cell_type": "code",
      "metadata": {
        "id": "9hwSWqU1I0E8",
        "colab_type": "code",
        "colab": {
          "base_uri": "https://localhost:8080/",
          "height": 1000
        },
        "outputId": "3837163b-7f74-4d57-d7df-f67930378c7b"
      },
      "source": [
        "import json\n",
        "import cv2\n",
        "import glob \n",
        "import os\n",
        "import matplotlib.pyplot as plt\n",
        "\n",
        "image=[]\n",
        "obj=[]\n",
        "  \n",
        "\n",
        "for i,name in enumerate(glob.glob('/content/drive/My Drive/labels2/*.png')): \n",
        "  if os.path.exists(name+\"___objects.json\"):\n",
        "    with open(name+'___objects.json') as f:\n",
        "      obj.append( json.load(f))\n",
        "    image.append(cv2.imread(name))\n",
        "    #obj.append(name+\"___objects.json\")\n",
        "  else:\n",
        "    print(False)\n",
        "  print(i,name) "
      ],
      "execution_count": 4,
      "outputs": [
        {
          "output_type": "stream",
          "text": [
            "False\n",
            "0 /content/drive/My Drive/labels2/04-24-2018_15-37-16.088_Top_126.png\n",
            "1 /content/drive/My Drive/labels2/04-24-2018_15-37-10.281_Top_117.png\n",
            "False\n",
            "2 /content/drive/My Drive/labels2/04-24-2018_15-37-14.796_Top_124.png\n",
            "3 /content/drive/My Drive/labels2/04-24-2018_15-37-04.750_Top_109.png\n",
            "False\n",
            "4 /content/drive/My Drive/labels2/04-24-2018_15-37-16.718_Top_127.png\n",
            "5 /content/drive/My Drive/labels2/04-24-2018_15-37-15.137_Top_125.png\n",
            "6 /content/drive/My Drive/labels2/04-24-2018_15-37-12.538_Top_121.png\n",
            "False\n",
            "7 /content/drive/My Drive/labels2/04-24-2018_15-37-17.038_Top_128.png\n",
            "8 /content/drive/My Drive/labels2/04-24-2018_15-37-06.042_Top_111.png\n",
            "9 /content/drive/My Drive/labels2/04-24-2018_15-37-09.299_Top_116.png\n",
            "10 /content/drive/My Drive/labels2/04-24-2018_15-37-13.824_Top_123.png\n",
            "11 /content/drive/My Drive/labels2/04-24-2018_15-37-10.932_Top_118.png\n",
            "12 /content/drive/My Drive/labels2/04-24-2018_15-37-08.971_Top_115.png\n",
            "13 /content/drive/My Drive/labels2/04-24-2018_15-37-05.722_Top_110.png\n",
            "14 /content/drive/My Drive/labels2/04-24-2018_15-37-07.320_Top_113.png\n",
            "15 /content/drive/My Drive/labels2/04-24-2018_15-37-11.257_Top_119.png\n",
            "16 /content/drive/My Drive/labels2/04-24-2018_15-37-07.005_Top_112.png\n",
            "17 /content/drive/My Drive/labels2/04-24-2018_15-37-13.190_Top_122.png\n",
            "18 /content/drive/My Drive/labels2/04-24-2018_15-37-04.422_Top_108.png\n",
            "19 /content/drive/My Drive/labels2/04-24-2018_15-37-11.888_Top_120.png\n",
            "20 /content/drive/My Drive/labels2/04-24-2018_15-37-08.331_Top_114.png\n",
            "21 /content/drive/My Drive/labels2/04-24-2018_15-37-11.562_Top_119.png\n",
            "False\n",
            "22 /content/drive/My Drive/labels2/04-24-2018_15-37-16.404_Top_127.png\n",
            "23 /content/drive/My Drive/labels2/04-24-2018_15-37-08.647_Top_115.png\n",
            "24 /content/drive/My Drive/labels2/04-24-2018_15-37-05.400_Top_110.png\n",
            "25 /content/drive/My Drive/labels2/04-24-2018_15-37-14.472_Top_124.png\n",
            "26 /content/drive/My Drive/labels2/04-24-2018_15-37-09.605_Top_116.png\n",
            "27 /content/drive/My Drive/labels2/04-24-2018_15-37-07.647_Top_113.png\n",
            "28 /content/drive/My Drive/labels2/04-24-2018_15-37-06.669_Top_112.png\n",
            "False\n",
            "29 /content/drive/My Drive/labels2/04-24-2018_15-37-17.363_Top_128.png\n",
            "False\n",
            "30 /content/drive/My Drive/labels2/04-24-2018_15-37-15.444_Top_125.png\n",
            "31 /content/drive/My Drive/labels2/04-24-2018_15-37-09.935_Top_117.png\n",
            "32 /content/drive/My Drive/labels2/04-24-2018_15-37-06.354_Top_111.png\n",
            "False\n",
            "33 /content/drive/My Drive/labels2/04-24-2018_15-37-15.777_Top_126.png\n",
            "34 /content/drive/My Drive/labels2/04-24-2018_15-37-10.604_Top_118.png\n",
            "35 /content/drive/My Drive/labels2/04-24-2018_15-37-05.073_Top_109.png\n",
            "36 /content/drive/My Drive/labels2/04-24-2018_15-37-13.506_Top_122.png\n",
            "37 /content/drive/My Drive/labels2/04-24-2018_15-37-12.209_Top_120.png\n",
            "38 /content/drive/My Drive/labels2/04-24-2018_15-37-12.872_Top_121.png\n",
            "39 /content/drive/My Drive/labels2/04-24-2018_15-37-03.453_Top_107.png\n",
            "40 /content/drive/My Drive/labels2/04-24-2018_15-37-07.997_Top_114.png\n",
            "41 /content/drive/My Drive/labels2/04-24-2018_15-37-14.144_Top_123.png\n",
            "42 /content/drive/My Drive/labels2/04-24-2018_15-37-09.239_Right_116.png\n",
            "43 /content/drive/My Drive/labels2/04-24-2018_15-37-11.197_Right_119.png\n",
            "False\n",
            "44 /content/drive/My Drive/labels2/04-24-2018_15-37-16.024_Right_126.png\n",
            "False\n",
            "45 /content/drive/My Drive/labels2/04-24-2018_15-37-16.660_Right_127.png\n",
            "46 /content/drive/My Drive/labels2/04-24-2018_15-37-07.262_Right_113.png\n",
            "47 /content/drive/My Drive/labels2/04-24-2018_15-37-10.221_Right_117.png\n",
            "48 /content/drive/My Drive/labels2/04-24-2018_15-37-14.733_Right_124.png\n",
            "False\n",
            "49 /content/drive/My Drive/labels2/04-24-2018_15-37-16.978_Right_128.png\n",
            "50 /content/drive/My Drive/labels2/04-24-2018_15-37-15.069_Right_125.png\n",
            "51 /content/drive/My Drive/labels2/04-24-2018_15-37-04.104_Top_108.png\n",
            "52 /content/drive/My Drive/labels2/04-24-2018_15-37-13.764_Right_123.png\n",
            "53 /content/drive/My Drive/labels2/04-24-2018_15-37-13.122_Right_122.png\n",
            "54 /content/drive/My Drive/labels2/04-24-2018_15-37-08.271_Right_114.png\n",
            "55 /content/drive/My Drive/labels2/04-24-2018_15-37-08.913_Right_115.png\n",
            "False\n",
            "56 /content/drive/My Drive/labels2/04-24-2018_15-37-03.780_Top_107.png\n",
            "57 /content/drive/My Drive/labels2/04-24-2018_15-37-10.868_Right_118.png\n",
            "58 /content/drive/My Drive/labels2/04-24-2018_15-37-11.828_Right_120.png\n",
            "59 /content/drive/My Drive/labels2/04-24-2018_15-37-12.475_Right_121.png\n",
            "False\n",
            "60 /content/drive/My Drive/labels2/04-24-2018_15-37-15.713_Right_126.png\n",
            "61 /content/drive/My Drive/labels2/04-24-2018_15-37-13.448_Right_122.png\n",
            "False\n",
            "62 /content/drive/My Drive/labels2/04-24-2018_15-37-17.304_Right_128.png\n",
            "63 /content/drive/My Drive/labels2/04-24-2018_15-37-04.360_Right_108.png\n",
            "64 /content/drive/My Drive/labels2/04-24-2018_15-37-06.945_Right_112.png\n",
            "65 /content/drive/My Drive/labels2/04-24-2018_15-37-11.505_Right_119.png\n",
            "False\n",
            "66 /content/drive/My Drive/labels2/04-24-2018_15-37-03.395_Right_107.png\n",
            "67 /content/drive/My Drive/labels2/04-24-2018_15-37-12.148_Right_120.png\n",
            "68 /content/drive/My Drive/labels2/04-24-2018_15-37-04.689_Right_109.png\n",
            "69 /content/drive/My Drive/labels2/04-24-2018_15-37-12.814_Right_121.png\n",
            "70 /content/drive/My Drive/labels2/04-24-2018_15-37-14.088_Right_123.png\n",
            "False\n",
            "71 /content/drive/My Drive/labels2/04-24-2018_15-37-16.348_Right_127.png\n",
            "72 /content/drive/My Drive/labels2/04-24-2018_15-37-10.546_Right_118.png\n",
            "73 /content/drive/My Drive/labels2/04-24-2018_15-37-14.411_Right_124.png\n",
            "74 /content/drive/My Drive/labels2/04-24-2018_15-37-05.665_Right_110.png\n",
            "75 /content/drive/My Drive/labels2/04-24-2018_15-37-05.982_Right_111.png\n",
            "76 /content/drive/My Drive/labels2/04-24-2018_15-37-15.384_Right_125.png\n",
            "77 /content/drive/My Drive/labels2/04-24-2018_15-37-09.868_Right_117.png\n",
            "78 /content/drive/My Drive/labels2/04-24-2018_15-37-15.188_Left_125.png\n",
            "79 /content/drive/My Drive/labels2/04-24-2018_15-37-05.014_Right_109.png\n",
            "80 /content/drive/My Drive/labels2/04-24-2018_15-37-07.936_Right_114.png\n",
            "81 /content/drive/My Drive/labels2/04-24-2018_15-37-05.338_Right_110.png\n",
            "82 /content/drive/My Drive/labels2/04-24-2018_15-37-12.589_Left_121.png\n",
            "83 /content/drive/My Drive/labels2/04-24-2018_15-37-08.588_Right_115.png\n",
            "84 /content/drive/My Drive/labels2/04-24-2018_15-37-06.294_Right_111.png\n",
            "85 /content/drive/My Drive/labels2/04-24-2018_15-37-11.941_Left_120.png\n",
            "86 /content/drive/My Drive/labels2/04-24-2018_15-37-11.305_Left_119.png\n",
            "87 /content/drive/My Drive/labels2/04-24-2018_15-37-13.243_Left_122.png\n",
            "88 /content/drive/My Drive/labels2/04-24-2018_15-37-06.608_Right_112.png\n",
            "89 /content/drive/My Drive/labels2/04-24-2018_15-37-14.848_Left_124.png\n",
            "False\n",
            "90 /content/drive/My Drive/labels2/04-24-2018_15-37-16.142_Left_126.png\n",
            "False\n",
            "91 /content/drive/My Drive/labels2/04-24-2018_15-37-16.769_Left_127.png\n",
            "92 /content/drive/My Drive/labels2/04-24-2018_15-37-09.550_Right_116.png\n",
            "93 /content/drive/My Drive/labels2/04-24-2018_15-37-04.044_Right_108.png\n",
            "94 /content/drive/My Drive/labels2/04-24-2018_15-37-07.587_Right_113.png\n",
            "False\n",
            "95 /content/drive/My Drive/labels2/04-24-2018_15-37-03.721_Right_107.png\n",
            "96 /content/drive/My Drive/labels2/04-24-2018_15-37-13.872_Left_123.png\n",
            "False\n",
            "97 /content/drive/My Drive/labels2/04-24-2018_15-37-17.093_Left_128.png\n",
            "False\n",
            "98 /content/drive/My Drive/labels2/04-24-2018_15-37-15.500_Left_125.png\n",
            "99 /content/drive/My Drive/labels2/04-24-2018_15-37-10.335_Left_117.png\n",
            "100 /content/drive/My Drive/labels2/04-24-2018_15-37-09.349_Left_116.png\n",
            "False\n",
            "101 /content/drive/My Drive/labels2/04-24-2018_15-37-16.454_Left_127.png\n",
            "102 /content/drive/My Drive/labels2/04-24-2018_15-37-09.020_Left_115.png\n",
            "False\n",
            "103 /content/drive/My Drive/labels2/04-24-2018_15-37-17.418_Left_128.png\n",
            "104 /content/drive/My Drive/labels2/04-24-2018_15-37-06.090_Left_111.png\n",
            "105 /content/drive/My Drive/labels2/04-24-2018_15-37-05.773_Left_110.png\n",
            "106 /content/drive/My Drive/labels2/04-24-2018_15-37-10.983_Left_118.png\n",
            "107 /content/drive/My Drive/labels2/04-24-2018_15-37-07.055_Left_112.png\n",
            "108 /content/drive/My Drive/labels2/04-24-2018_15-37-14.522_Left_124.png\n",
            "False\n",
            "109 /content/drive/My Drive/labels2/04-24-2018_15-37-15.828_Left_126.png\n",
            "False\n",
            "110 /content/drive/My Drive/labels2/04-24-2018_15-37-04.474_Left_108.png\n",
            "111 /content/drive/My Drive/labels2/04-24-2018_15-37-07.368_Left_113.png\n",
            "112 /content/drive/My Drive/labels2/04-24-2018_15-37-08.385_Left_114.png\n",
            "False\n",
            "113 /content/drive/My Drive/labels2/04-24-2018_15-37-03.505_Left_107.png\n",
            "114 /content/drive/My Drive/labels2/04-24-2018_15-37-04.801_Left_109.png\n",
            "False\n",
            "115 /content/drive/My Drive/labels2/04-24-2018_15-37-03.834_Left_107.png\n",
            "116 /content/drive/My Drive/labels2/04-24-2018_15-37-05.455_Left_110.png\n",
            "117 /content/drive/My Drive/labels2/04-24-2018_15-37-10.657_Left_118.png\n",
            "118 /content/drive/My Drive/labels2/04-24-2018_15-37-09.999_Left_117.png\n",
            "119 /content/drive/My Drive/labels2/04-24-2018_15-37-05.131_Left_109.png\n",
            "120 /content/drive/My Drive/labels2/04-24-2018_15-37-06.725_Left_112.png\n",
            "121 /content/drive/My Drive/labels2/04-24-2018_15-37-09.663_Left_116.png\n",
            "122 /content/drive/My Drive/labels2/04-24-2018_15-37-14.196_Left_123.png\n",
            "123 /content/drive/My Drive/labels2/04-24-2018_15-37-08.051_Left_114.png\n",
            "124 /content/drive/My Drive/labels2/04-24-2018_15-37-12.264_Left_120.png\n",
            "125 /content/drive/My Drive/labels2/04-24-2018_15-37-06.411_Left_111.png\n",
            "126 /content/drive/My Drive/labels2/04-24-2018_15-37-12.922_Left_121.png\n",
            "127 /content/drive/My Drive/labels2/04-24-2018_15-37-11.619_Left_119.png\n",
            "128 /content/drive/My Drive/labels2/04-24-2018_15-37-13.563_Left_122.png\n",
            "129 /content/drive/My Drive/labels2/04-24-2018_15-37-07.709_Left_113.png\n",
            "130 /content/drive/My Drive/labels2/04-24-2018_15-37-08.703_Left_115.png\n",
            "131 /content/drive/My Drive/labels2/04-24-2018_15-37-04.157_Left_108.png\n",
            "132 /content/drive/My Drive/labels2/04-24-2018_15-32-29.480_Left_64.png\n",
            "133 /content/drive/My Drive/labels2/04-24-2018_15-32-30.458_Left_66.png\n",
            "134 /content/drive/My Drive/labels2/04-24-2018_15-32-35.042_Left_73.png\n",
            "135 /content/drive/My Drive/labels2/04-24-2018_15-32-28.547_Left_63.png\n",
            "136 /content/drive/My Drive/labels2/04-24-2018_15-32-31.427_Left_67.png\n",
            "137 /content/drive/My Drive/labels2/04-24-2018_15-32-35.993_Left_74.png\n",
            "138 /content/drive/My Drive/labels2/04-24-2018_15-32-32.411_Left_69.png\n",
            "139 /content/drive/My Drive/labels2/04-24-2018_15-32-27.909_Left_62.png\n",
            "140 /content/drive/My Drive/labels2/04-24-2018_15-32-31.753_Left_68.png\n",
            "141 /content/drive/My Drive/labels2/04-24-2018_15-32-33.406_Left_70.png\n",
            "142 /content/drive/My Drive/labels2/04-24-2018_15-32-27.580_Left_61.png\n",
            "143 /content/drive/My Drive/labels2/04-24-2018_15-32-29.815_Left_65.png\n",
            "144 /content/drive/My Drive/labels2/04-24-2018_15-32-31.637_Right_68.png\n",
            "145 /content/drive/My Drive/labels2/04-24-2018_15-24-17.338_Left_29.png\n",
            "146 /content/drive/My Drive/labels2/04-24-2018_15-24-13.832_Left_24.png\n",
            "147 /content/drive/My Drive/labels2/04-24-2018_15-24-05.759_Left_11.png\n",
            "148 /content/drive/My Drive/labels2/04-24-2018_15-32-27.792_Right_62.png\n",
            "149 /content/drive/My Drive/labels2/04-24-2018_15-32-29.368_Right_64.png\n",
            "150 /content/drive/My Drive/labels2/04-24-2018_15-24-16.385_Left_28.png\n",
            "151 /content/drive/My Drive/labels2/04-24-2018_15-32-31.313_Right_67.png\n",
            "152 /content/drive/My Drive/labels2/04-24-2018_15-24-11.574_Left_20.png\n",
            "153 /content/drive/My Drive/labels2/04-24-2018_15-32-36.969_Left_76.png\n",
            "154 /content/drive/My Drive/labels2/04-24-2018_15-32-32.297_Right_69.png\n",
            "155 /content/drive/My Drive/labels2/04-24-2018_15-24-08.685_Left_16.png\n",
            "156 /content/drive/My Drive/labels2/04-24-2018_15-32-26.921_Left_60.png\n",
            "157 /content/drive/My Drive/labels2/04-24-2018_15-32-29.700_Right_65.png\n",
            "158 /content/drive/My Drive/labels2/04-24-2018_15-32-33.734_Left_71.png\n",
            "159 /content/drive/My Drive/labels2/04-24-2018_15-24-15.748_Left_27.png\n",
            "160 /content/drive/My Drive/labels2/04-24-2018_15-24-09.329_Left_17.png\n",
            "161 /content/drive/My Drive/labels2/04-24-2018_15-32-27.462_Right_61.png\n",
            "162 /content/drive/My Drive/labels2/04-24-2018_15-32-34.926_Right_73.png\n",
            "163 /content/drive/My Drive/labels2/04-24-2018_15-32-36.856_Right_76.png\n",
            "164 /content/drive/My Drive/labels2/04-24-2018_15-24-09.968_Left_18.png\n",
            "165 /content/drive/My Drive/labels2/04-24-2018_15-24-07.049_Left_13.png\n",
            "166 /content/drive/My Drive/labels2/04-24-2018_15-24-06.077_Left_12.png\n",
            "167 /content/drive/My Drive/labels2/04-24-2018_15-24-07.369_Left_14.png\n",
            "168 /content/drive/My Drive/labels2/04-24-2018_15-24-17.031_Left_29.png\n",
            "169 /content/drive/My Drive/labels2/04-24-2018_15-24-15.114_Left_26.png\n",
            "170 /content/drive/My Drive/labels2/04-24-2018_15-24-13.496_Left_23.png\n",
            "171 /content/drive/My Drive/labels2/04-24-2018_15-24-05.645_Right_11.png\n",
            "172 /content/drive/My Drive/labels2/04-24-2018_15-24-11.253_Left_20.png\n",
            "173 /content/drive/My Drive/labels2/04-24-2018_15-32-36.528_Right_75.png\n",
            "174 /content/drive/My Drive/labels2/04-24-2018_15-24-14.790_Left_25.png\n",
            "175 /content/drive/My Drive/labels2/04-24-2018_15-24-08.033_Left_15.png\n",
            "176 /content/drive/My Drive/labels2/04-24-2018_15-24-09.004_Left_16.png\n",
            "177 /content/drive/My Drive/labels2/04-24-2018_15-24-08.248_Right_15.png\n",
            "178 /content/drive/My Drive/labels2/04-24-2018_15-24-06.713_Left_13.png\n",
            "179 /content/drive/My Drive/labels2/04-24-2018_15-32-37.529_Right_77.png\n",
            "180 /content/drive/My Drive/labels2/04-24-2018_15-32-36.648_Left_75.png\n",
            "181 /content/drive/My Drive/labels2/04-24-2018_15-24-06.284_Right_12.png\n",
            "182 /content/drive/My Drive/labels2/04-24-2018_15-32-37.644_Left_77.png\n",
            "183 /content/drive/My Drive/labels2/04-24-2018_15-32-34.709_Left_72.png\n",
            "184 /content/drive/My Drive/labels2/04-24-2018_15-24-13.183_Left_23.png\n",
            "185 /content/drive/My Drive/labels2/04-24-2018_15-24-16.067_Left_27.png\n",
            "186 /content/drive/My Drive/labels2/04-24-2018_15-32-33.623_Right_71.png\n",
            "187 /content/drive/My Drive/labels2/04-24-2018_15-24-07.704_Left_14.png\n",
            "188 /content/drive/My Drive/labels2/04-24-2018_15-24-12.533_Left_22.png\n",
            "189 /content/drive/My Drive/labels2/04-24-2018_15-24-12.853_Left_22.png\n",
            "190 /content/drive/My Drive/labels2/04-24-2018_15-24-14.161_Left_24.png\n",
            "191 /content/drive/My Drive/labels2/04-24-2018_15-32-35.881_Right_74.png\n",
            "192 /content/drive/My Drive/labels2/04-24-2018_15-24-06.395_Left_12.png\n",
            "193 /content/drive/My Drive/labels2/04-24-2018_15-24-16.704_Left_28.png\n",
            "194 /content/drive/My Drive/labels2/04-24-2018_15-24-14.483_Left_25.png\n",
            "195 /content/drive/My Drive/labels2/04-24-2018_15-24-12.221_Left_21.png\n",
            "196 /content/drive/My Drive/labels2/04-24-2018_15-24-08.359_Left_15.png\n",
            "197 /content/drive/My Drive/labels2/04-24-2018_15-24-15.429_Left_26.png\n",
            "198 /content/drive/My Drive/labels2/04-24-2018_15-32-33.287_Right_70.png\n",
            "199 /content/drive/My Drive/labels2/04-24-2018_15-32-28.436_Right_63.png\n",
            "200 /content/drive/My Drive/labels2/04-24-2018_15-32-25.853_Right_59.png\n",
            "201 /content/drive/My Drive/labels2/04-24-2018_15-24-05.431_Left_11.png\n",
            "202 /content/drive/My Drive/labels2/04-24-2018_15-24-10.612_Left_19.png\n",
            "203 /content/drive/My Drive/labels2/04-24-2018_15-32-34.595_Right_72.png\n",
            "204 /content/drive/My Drive/labels2/04-24-2018_15-24-17.962_Left_30.png\n",
            "205 /content/drive/My Drive/labels2/04-24-2018_15-24-09.666_Left_17.png\n",
            "206 /content/drive/My Drive/labels2/04-24-2018_15-32-26.807_Right_60.png\n",
            "207 /content/drive/My Drive/labels2/04-24-2018_15-24-10.938_Left_19.png\n",
            "208 /content/drive/My Drive/labels2/04-24-2018_15-24-10.289_Left_18.png\n",
            "209 /content/drive/My Drive/labels2/04-24-2018_15-24-11.907_Left_21.png\n",
            "210 /content/drive/My Drive/labels2/04-24-2018_15-32-30.345_Right_66.png\n",
            "211 /content/drive/My Drive/labels2/04-24-2018_15-24-08.889_Right_16.png\n",
            "212 /content/drive/My Drive/labels2/04-24-2018_15-24-07.922_Right_15.png\n",
            "213 /content/drive/My Drive/labels2/04-24-2018_15-24-07.257_Right_14.png\n",
            "214 /content/drive/My Drive/labels2/04-24-2018_15-24-11.786_Right_21.png\n",
            "215 /content/drive/My Drive/labels2/04-24-2018_15-24-15.634_Right_27.png\n",
            "216 /content/drive/My Drive/labels2/04-24-2018_15-24-09.547_Right_17.png\n",
            "217 /content/drive/My Drive/labels2/04-24-2018_15-24-06.602_Right_13.png\n",
            "218 /content/drive/My Drive/labels2/04-24-2018_15-24-08.556_Right_16.png\n",
            "219 /content/drive/My Drive/labels2/04-24-2018_15-24-10.495_Right_19.png\n",
            "220 /content/drive/My Drive/labels2/04-24-2018_15-24-05.953_Right_12.png\n",
            "221 /content/drive/My Drive/labels2/04-24-2018_15-24-05.323_Right_11.png\n",
            "222 /content/drive/My Drive/labels2/04-24-2018_15-24-12.421_Right_22.png\n",
            "223 /content/drive/My Drive/labels2/04-24-2018_15-24-16.269_Right_28.png\n",
            "224 /content/drive/My Drive/labels2/04-24-2018_15-24-09.216_Right_17.png\n",
            "225 /content/drive/My Drive/labels2/04-24-2018_15-24-15.000_Right_26.png\n",
            "226 /content/drive/My Drive/labels2/04-24-2018_15-24-07.578_Right_14.png\n",
            "227 /content/drive/My Drive/labels2/04-24-2018_15-24-06.932_Right_13.png\n",
            "228 /content/drive/My Drive/labels2/04-24-2018_15-24-11.456_Right_20.png\n",
            "229 /content/drive/My Drive/labels2/04-24-2018_15-24-14.369_Right_25.png\n",
            "230 /content/drive/My Drive/labels2/04-24-2018_15-24-13.724_Right_24.png\n",
            "231 /content/drive/My Drive/labels2/04-24-2018_15-24-10.826_Right_19.png\n",
            "232 /content/drive/My Drive/labels2/04-24-2018_15-24-13.070_Right_23.png\n",
            "233 /content/drive/My Drive/labels2/04-24-2018_15-24-12.108_Right_21.png\n",
            "234 /content/drive/My Drive/labels2/04-24-2018_15-24-10.176_Right_18.png\n",
            "235 /content/drive/My Drive/labels2/04-24-2018_15-24-16.912_Right_29.png\n",
            "236 /content/drive/My Drive/labels2/04-24-2018_15-24-17.853_Right_30.png\n",
            "237 /content/drive/My Drive/labels2/04-24-2018_15-24-09.858_Right_18.png\n"
          ],
          "name": "stdout"
        }
      ]
    },
    {
      "cell_type": "code",
      "metadata": {
        "id": "vjUk5w_QPVM5",
        "colab_type": "code",
        "colab": {
          "base_uri": "https://localhost:8080/",
          "height": 200
        },
        "outputId": "167c59ad-a173-4c27-b3f2-e4217f433c1a"
      },
      "source": [
        "import matplotlib.pyplot as plt\n",
        "plt.imshow(cv2.cvtColor(image[0], cv2.COLOR_BGR2RGB))"
      ],
      "execution_count": 5,
      "outputs": [
        {
          "output_type": "execute_result",
          "data": {
            "text/plain": [
              "<matplotlib.image.AxesImage at 0x7f26c5180470>"
            ]
          },
          "metadata": {
            "tags": []
          },
          "execution_count": 5
        },
        {
          "output_type": "display_data",
          "data": {
            "image/png": "[encoded data removed]",
            "text/plain": [
              "<Figure size 432x288 with 1 Axes>"
            ]
          },
          "metadata": {
            "tags": [],
            "needs_background": "light"
          }
        }
      ]
    },
    {
      "cell_type": "code",
      "metadata": {
        "id": "lfmB4mXDQLfy",
        "colab_type": "code",
        "colab": {}
      },
      "source": [
        "import torchvision.transforms as T\n",
        "import torch \n",
        "import numpy as np\n",
        "\n",
        "class AppleDataset(object):\n",
        "    def __init__(self, obj,images):\n",
        "        \n",
        "        self.dtype = torch.cuda.FloatTensor if torch.cuda.is_available() else torch.FloatTensor\n",
        "        self.to_tensor = T.ToTensor()\n",
        "        self.device = torch.device('cuda:0' if torch.cuda.is_available() else 'cpu')\n",
        "        self.obj = obj\n",
        "        self.images=images\n",
        "        \n",
        "    def __len__(self):\n",
        "        return len(self.images)\n",
        "    \n",
        "    def __getitem__(self, idx):\n",
        "        \n",
        "        vis={'True':1,'False':0}\n",
        "        pts=[]\n",
        "        boxes=[]\n",
        "        for i in self.obj[idx]:\n",
        "          if i['type']=='point':\n",
        "            pts.append(i['x'])\n",
        "            pts.append(i['y'])\n",
        "            pts.append(1)\n",
        "          elif i['type']=='bbox':\n",
        "            boxes.append([i['points']['x1'],i['points']['y1'],i['points']['x2'],i['points']['y2']])\n",
        "\n",
        "         \n",
        "        image =self.images[idx]\n",
        "        #kpts = np.array(self.df.iloc[idx, 1:]).astype(np.float32).reshape([-1, 3]) # [x, y, visibility]\n",
        "        kpts=np.array(pts).astype(np.float32).reshape([1,-1,3])#considering one apple per imageyzyy\n",
        "        boxes=np.array(boxes).astype(np.float32)\n",
        "        h, w = image.shape[:2]\n",
        "        \n",
        "        if w < 640:\n",
        "            image = imutils.resize(image, width=640)\n",
        "        \n",
        "        labels = np.ones((1), dtype=np.int8)\n",
        "        image_id = torch.tensor([idx])\n",
        "        target = {}\n",
        "        target[\"boxes\"] = torch.from_numpy(boxes).type(self.dtype).to(self.device)\n",
        "        target[\"labels\"] = torch.from_numpy(labels).type(torch.int64).to(self.device)\n",
        "        target[\"keypoints\"] = torch.from_numpy(kpts).type(self.dtype).to(self.device)\n",
        "        target[\"image_id\"] = image_id.to(self.device)\n",
        "        #target[\"area\"] =(torch.tensor(boxes[:, 3] - boxes[:, 1]) * (boxes[:, 2] - boxes[:, 0])).to(self.device) \n",
        "        iscrowd = torch.zeros((1,), dtype=torch.int64)#one apple per image\n",
        "        target[\"iscrowd\"] = iscrowd.to(self.device)\n",
        "        img = T.ToPILImage()(image).convert('RGB')\n",
        "        img = self.to_tensor(img).to(self.device)        \n",
        "\n",
        "        return img, target"
      ],
      "execution_count": 6,
      "outputs": []
    },
    {
      "cell_type": "code",
      "metadata": {
        "id": "FmbfvaMxqili",
        "colab_type": "code",
        "colab": {
          "base_uri": "https://localhost:8080/",
          "height": 34
        },
        "outputId": "2f0c4dc9-9bfb-435d-eebb-5a6bc3c0c99c"
      },
      "source": [
        "print(torch.cuda.is_available(),\n",
        "torch.cuda.get_device_capability(),\n",
        "torch.cuda.device_count(),\n",
        "torch.cuda.get_device_name(device=None))"
      ],
      "execution_count": 7,
      "outputs": [
        {
          "output_type": "stream",
          "text": [
            "True (3, 7) 1 Tesla K80\n"
          ],
          "name": "stdout"
        }
      ]
    },
    {
      "cell_type": "code",
      "metadata": {
        "id": "E9kR2rTxWun-",
        "colab_type": "code",
        "colab": {}
      },
      "source": [
        "Dataset = AppleDataset(obj, image)\n",
        "\n",
        "l=Dataset.__len__()\n",
        "test_percent=5\n",
        "torch.manual_seed(1)\n",
        "indices = torch.randperm(len(Dataset)).tolist()\n",
        "dataset = torch.utils.data.Subset(Dataset, indices[:-int(np.ceil(l*test_percent/100))])\n",
        "dataset_test = torch.utils.data.Subset(Dataset, indices[int(-np.ceil(l*test_percent/100)):])"
      ],
      "execution_count": 8,
      "outputs": []
    },
    {
      "cell_type": "code",
      "metadata": {
        "id": "4JvVOoPohYJX",
        "colab_type": "code",
        "colab": {
          "base_uri": "https://localhost:8080/",
          "height": 34
        },
        "outputId": "d32a0ff3-ac08-4e87-8812-e6fe87d909de"
      },
      "source": [
        "print(dataset.__len__(),dataset_test.__len__())"
      ],
      "execution_count": 9,
      "outputs": [
        {
          "output_type": "stream",
          "text": [
            "200 11\n"
          ],
          "name": "stdout"
        }
      ]
    },
    {
      "cell_type": "code",
      "metadata": {
        "id": "HdXxnpLTbDVF",
        "colab_type": "code",
        "colab": {}
      },
      "source": [
        "# define training and validation data loaders\n",
        "import utils\n",
        "data_loader = torch.utils.data.DataLoader(\n",
        "    dataset, batch_size=2, shuffle=True, \n",
        "    collate_fn=utils.collate_fn)\n",
        "\n",
        "data_loader_test = torch.utils.data.DataLoader(\n",
        "    dataset_test, batch_size=(1), shuffle=False, \n",
        "    collate_fn=utils.collate_fn)"
      ],
      "execution_count": 10,
      "outputs": []
    },
    {
      "cell_type": "code",
      "metadata": {
        "id": "nNqwFItPtmTu",
        "colab_type": "code",
        "colab": {}
      },
      "source": [
        "import torch\n",
        "import torchvision\n",
        "import torch.nn as nn\n",
        "def get_model(num_kpts,train_kptHead=False,train_fpn=True):\n",
        "    is_available = torch.cuda.is_available()\n",
        "    device =torch.device('cuda:0' if is_available else 'cpu')\n",
        "    dtype = torch.cuda.FloatTensor if is_available else torch.FloatTensor\n",
        "    model = torchvision.models.detection.keypointrcnn_resnet50_fpn(pretrained=True)\n",
        "    \n",
        "    for i,param in enumerate(model.parameters()):\n",
        "        param.requires_grad = False\n",
        "        \n",
        "    if train_kptHead!=False:\n",
        "      for i, param in enumerate(model.roi_heads.keypoint_head.parameters()):\n",
        "          if i/2>=model.roi_heads.keypoint_head.__len__()/2-train_kptHead:\n",
        "            param.requires_grad = True\n",
        "\n",
        "    if train_fpn==True:\n",
        "      for param in model.backbone.fpn.parameters():\n",
        "        param.requires_grad = True\n",
        "\n",
        "    out = nn.ConvTranspose2d(512, num_kpts, kernel_size=(4, 4), stride=(2, 2), padding=(1, 1))\n",
        "    model.roi_heads.keypoint_predictor.kps_score_lowres = out\n",
        "    \n",
        "    return model, device, dtype\n",
        "#model, device, dtype=get_model(2)"
      ],
      "execution_count": 11,
      "outputs": []
    },
    {
      "cell_type": "code",
      "metadata": {
        "id": "QuaxWZrXNp26",
        "colab_type": "code",
        "colab": {
          "base_uri": "https://localhost:8080/",
          "height": 120,
          "referenced_widgets": [
            "53320d6fe6eb4cedad0a6d3ff9529650",
            "41ea44c847b84e2f8c397b789d6bd632",
            "c1bf97d540114d5eb882832eb42c66f7",
            "1782bc949b9b42bcb06dc7585813c4a0",
            "48344a87aff147ceb1fcf425e9e48b3c",
            "460aeed0a92540b8aa32890824bc6e46",
            "55d1bed77daa4b6d86b18e804870c5bb",
            "304507900c2840578fb3bb915ae60d9f"
          ]
        },
        "outputId": "3545fa33-0052-43bf-f114-61f5a9a9b8fd"
      },
      "source": [
        "#load a pretrained model\n",
        "from google.colab import files\n",
        "model_save_name = 'classifier3.pth'\n",
        "path = F\"/content/drive/My Drive/{model_save_name}\" \n",
        "model, device, dtype=get_model(2,train_kptHead=2,train_fpn=True)\n",
        "model.to(device)\n",
        "model.load_state_dict(torch.load(path))\n",
        "#torch.save(model.state_dict(), path)"
      ],
      "execution_count": 12,
      "outputs": [
        {
          "output_type": "stream",
          "text": [
            "Downloading: \"https://download.pytorch.org/models/keypointrcnn_resnet50_fpn_coco-fc266e95.pth\" to /root/.cache/torch/hub/checkpoints/keypointrcnn_resnet50_fpn_coco-fc266e95.pth\n"
          ],
          "name": "stderr"
        },
        {
          "output_type": "display_data",
          "data": {
            "application/vnd.jupyter.widget-view+json": {
              "model_id": "53320d6fe6eb4cedad0a6d3ff9529650",
              "version_minor": 0,
              "version_major": 2
            },
            "text/plain": [
              "HBox(children=(FloatProgress(value=0.0, max=237034793.0), HTML(value='')))"
            ]
          },
          "metadata": {
            "tags": []
          }
        },
        {
          "output_type": "stream",
          "text": [
            "\n"
          ],
          "name": "stdout"
        },
        {
          "output_type": "execute_result",
          "data": {
            "text/plain": [
              "<All keys matched successfully>"
            ]
          },
          "metadata": {
            "tags": []
          },
          "execution_count": 12
        }
      ]
    },
    {
      "cell_type": "code",
      "metadata": {
        "id": "o3uFhWIgdu14",
        "colab_type": "code",
        "colab": {}
      },
      "source": [
        "from PIL import Image\n",
        "import numpy\n",
        "from google.colab import files\n",
        "\n",
        "def show_result(data,no_images=50):\n",
        "\n",
        "  figsize=(500, 1280)\n",
        "  columns = 1\n",
        "  rows = 50\n",
        "  fig=plt.figure()\n",
        "  j=0\n",
        "  for i,(image,keypoints) in enumerate(data):\n",
        "   \n",
        "    image=image.cpu().permute(1, 2, 0).numpy()\n",
        "    image=image[:, :, [2, 1, 0]]  \n",
        "    cX1=int(keypoints['keypoints'][0][0][0])\n",
        "    cY1=int(keypoints['keypoints'][0][0][1])\n",
        "    cX=int(keypoints['keypoints'][0][1][0])\n",
        "    cY=int(keypoints['keypoints'][0][1][1])\n",
        "    im = Image.fromarray(np.uint8((image)*255))\n",
        "    image=np.asarray(im)\n",
        "    cv2.line(image, (cX, cY), (cX1, cY1), (256,0,0), 10)\n",
        "    cv2.circle(image, (cX, cY), 10, (255, 0, 0))\n",
        "    cv2.circle(image, (cX1, cY1), 10, (0, 255, 255))\n",
        "    plt.imshow(image)\n",
        "    \n",
        "    #im = Image.fromarray(image)\n",
        "    #im.save(\"test_out{}.jpeg\".format(j))\n",
        "    #files.download(\"test_out{}.jpeg\".format(j))\n",
        "  plt.show()\n"
      ],
      "execution_count": 13,
      "outputs": []
    },
    {
      "cell_type": "code",
      "metadata": {
        "id": "YsIXutJ11PBN",
        "colab_type": "code",
        "colab": {
          "base_uri": "https://localhost:8080/",
          "height": 374
        },
        "outputId": "69286fd3-19ac-4fc1-b6d6-39d7f16a7f25"
      },
      "source": [
        "\n",
        "image_test=(cv2.imread(\"/content/04-24-2018_15-32-29.426_Top_64.png\"))\n",
        "image_test=T.ToPILImage()(image_test).convert('RGB')\n",
        "image_test= T.ToTensor()(image_test).to(torch.device('cuda:0'))\n",
        "image_test=[image_test]\n",
        "model.eval()\n",
        "out=model(image_test)\n",
        "\n",
        "\n",
        "\n",
        "\n",
        "show_result( zip(image_test,out))\n",
        "image_test[0].shape"
      ],
      "execution_count": 14,
      "outputs": [
        {
          "output_type": "error",
          "ename": "TypeError",
          "evalue": "ignored",
          "traceback": [
            "\u001b[0;31m---------------------------------------------------------------------------\u001b[0m",
            "\u001b[0;31mTypeError\u001b[0m                                 Traceback (most recent call last)",
            "\u001b[0;32m<ipython-input-14-aaeff46c587d>\u001b[0m in \u001b[0;36m<module>\u001b[0;34m()\u001b[0m\n\u001b[1;32m      1\u001b[0m \u001b[0;34m\u001b[0m\u001b[0m\n\u001b[1;32m      2\u001b[0m \u001b[0mimage_test\u001b[0m\u001b[0;34m=\u001b[0m\u001b[0;34m(\u001b[0m\u001b[0mcv2\u001b[0m\u001b[0;34m.\u001b[0m\u001b[0mimread\u001b[0m\u001b[0;34m(\u001b[0m\u001b[0;34m\"/content/04-24-2018_15-32-29.426_Top_64.png\"\u001b[0m\u001b[0;34m)\u001b[0m\u001b[0;34m)\u001b[0m\u001b[0;34m\u001b[0m\u001b[0;34m\u001b[0m\u001b[0m\n\u001b[0;32m----> 3\u001b[0;31m \u001b[0mimage_test\u001b[0m\u001b[0;34m=\u001b[0m\u001b[0mT\u001b[0m\u001b[0;34m.\u001b[0m\u001b[0mToPILImage\u001b[0m\u001b[0;34m(\u001b[0m\u001b[0;34m)\u001b[0m\u001b[0;34m(\u001b[0m\u001b[0mimage_test\u001b[0m\u001b[0;34m)\u001b[0m\u001b[0;34m.\u001b[0m\u001b[0mconvert\u001b[0m\u001b[0;34m(\u001b[0m\u001b[0;34m'RGB'\u001b[0m\u001b[0;34m)\u001b[0m\u001b[0;34m\u001b[0m\u001b[0;34m\u001b[0m\u001b[0m\n\u001b[0m\u001b[1;32m      4\u001b[0m \u001b[0mimage_test\u001b[0m\u001b[0;34m=\u001b[0m \u001b[0mT\u001b[0m\u001b[0;34m.\u001b[0m\u001b[0mToTensor\u001b[0m\u001b[0;34m(\u001b[0m\u001b[0;34m)\u001b[0m\u001b[0;34m(\u001b[0m\u001b[0mimage_test\u001b[0m\u001b[0;34m)\u001b[0m\u001b[0;34m.\u001b[0m\u001b[0mto\u001b[0m\u001b[0;34m(\u001b[0m\u001b[0mtorch\u001b[0m\u001b[0;34m.\u001b[0m\u001b[0mdevice\u001b[0m\u001b[0;34m(\u001b[0m\u001b[0;34m'cuda:0'\u001b[0m\u001b[0;34m)\u001b[0m\u001b[0;34m)\u001b[0m\u001b[0;34m\u001b[0m\u001b[0;34m\u001b[0m\u001b[0m\n\u001b[1;32m      5\u001b[0m \u001b[0mimage_test\u001b[0m\u001b[0;34m=\u001b[0m\u001b[0;34m[\u001b[0m\u001b[0mimage_test\u001b[0m\u001b[0;34m]\u001b[0m\u001b[0;34m\u001b[0m\u001b[0;34m\u001b[0m\u001b[0m\n",
            "\u001b[0;32m/usr/local/lib/python3.6/dist-packages/torchvision/transforms/transforms.py\u001b[0m in \u001b[0;36m__call__\u001b[0;34m(self, pic)\u001b[0m\n\u001b[1;32m    170\u001b[0m \u001b[0;34m\u001b[0m\u001b[0m\n\u001b[1;32m    171\u001b[0m         \"\"\"\n\u001b[0;32m--> 172\u001b[0;31m         \u001b[0;32mreturn\u001b[0m \u001b[0mF\u001b[0m\u001b[0;34m.\u001b[0m\u001b[0mto_pil_image\u001b[0m\u001b[0;34m(\u001b[0m\u001b[0mpic\u001b[0m\u001b[0;34m,\u001b[0m \u001b[0mself\u001b[0m\u001b[0;34m.\u001b[0m\u001b[0mmode\u001b[0m\u001b[0;34m)\u001b[0m\u001b[0;34m\u001b[0m\u001b[0;34m\u001b[0m\u001b[0m\n\u001b[0m\u001b[1;32m    173\u001b[0m \u001b[0;34m\u001b[0m\u001b[0m\n\u001b[1;32m    174\u001b[0m     \u001b[0;32mdef\u001b[0m \u001b[0m__repr__\u001b[0m\u001b[0;34m(\u001b[0m\u001b[0mself\u001b[0m\u001b[0;34m)\u001b[0m\u001b[0;34m:\u001b[0m\u001b[0;34m\u001b[0m\u001b[0;34m\u001b[0m\u001b[0m\n",
            "\u001b[0;32m/usr/local/lib/python3.6/dist-packages/torchvision/transforms/functional.py\u001b[0m in \u001b[0;36mto_pil_image\u001b[0;34m(pic, mode)\u001b[0m\n\u001b[1;32m    188\u001b[0m     \"\"\"\n\u001b[1;32m    189\u001b[0m     \u001b[0;32mif\u001b[0m \u001b[0;32mnot\u001b[0m\u001b[0;34m(\u001b[0m\u001b[0misinstance\u001b[0m\u001b[0;34m(\u001b[0m\u001b[0mpic\u001b[0m\u001b[0;34m,\u001b[0m \u001b[0mtorch\u001b[0m\u001b[0;34m.\u001b[0m\u001b[0mTensor\u001b[0m\u001b[0;34m)\u001b[0m \u001b[0;32mor\u001b[0m \u001b[0misinstance\u001b[0m\u001b[0;34m(\u001b[0m\u001b[0mpic\u001b[0m\u001b[0;34m,\u001b[0m \u001b[0mnp\u001b[0m\u001b[0;34m.\u001b[0m\u001b[0mndarray\u001b[0m\u001b[0;34m)\u001b[0m\u001b[0;34m)\u001b[0m\u001b[0;34m:\u001b[0m\u001b[0;34m\u001b[0m\u001b[0;34m\u001b[0m\u001b[0m\n\u001b[0;32m--> 190\u001b[0;31m         \u001b[0;32mraise\u001b[0m \u001b[0mTypeError\u001b[0m\u001b[0;34m(\u001b[0m\u001b[0;34m'pic should be Tensor or ndarray. Got {}.'\u001b[0m\u001b[0;34m.\u001b[0m\u001b[0mformat\u001b[0m\u001b[0;34m(\u001b[0m\u001b[0mtype\u001b[0m\u001b[0;34m(\u001b[0m\u001b[0mpic\u001b[0m\u001b[0;34m)\u001b[0m\u001b[0;34m)\u001b[0m\u001b[0;34m)\u001b[0m\u001b[0;34m\u001b[0m\u001b[0;34m\u001b[0m\u001b[0m\n\u001b[0m\u001b[1;32m    191\u001b[0m \u001b[0;34m\u001b[0m\u001b[0m\n\u001b[1;32m    192\u001b[0m     \u001b[0;32melif\u001b[0m \u001b[0misinstance\u001b[0m\u001b[0;34m(\u001b[0m\u001b[0mpic\u001b[0m\u001b[0;34m,\u001b[0m \u001b[0mtorch\u001b[0m\u001b[0;34m.\u001b[0m\u001b[0mTensor\u001b[0m\u001b[0;34m)\u001b[0m\u001b[0;34m:\u001b[0m\u001b[0;34m\u001b[0m\u001b[0;34m\u001b[0m\u001b[0m\n",
            "\u001b[0;31mTypeError\u001b[0m: pic should be Tensor or ndarray. Got <class 'NoneType'>."
          ]
        }
      ]
    },
    {
      "cell_type": "code",
      "metadata": {
        "id": "gPW6HnKswGt8",
        "colab_type": "code",
        "colab": {}
      },
      "source": [
        "torch.__version__"
      ],
      "execution_count": null,
      "outputs": []
    },
    {
      "cell_type": "code",
      "metadata": {
        "id": "7yWNV5lAPi5f",
        "colab_type": "code",
        "colab": {}
      },
      "source": [
        "import torch.onnx\n",
        "#torch.set_default_tensor_type('torch.cuda.FloatTensor')\n",
        "#Image=torch.tensor(Dataset[0][0].unsqueeze(dim=0),device=torch.device('cuda:0'))\n",
        "model.eval()\n",
        "out = model(image_test)\n",
        "dynamic_axes = {'input': [0, 2, 3], 'output': [0, 2, 3]}\n",
        "# Export the model\n",
        "torch.onnx.export(model,                     # model being run\n",
        "                  image_test,                # model input (or a tuple for multiple inputs)\n",
        "                  \"apple_axis.onnx\",         # where to save the model (can be a file or file-like object)\n",
        "                  export_params=True,        # store the trained parameter weights inside the model file\n",
        "                  opset_version=11,          # the ONNX version to export the model to\n",
        "                  do_constant_folding=True,  # whether to execute constant folding for optimization\n",
        "                  input_names = ['input'],   # the model's input names\n",
        "                  output_names = ['output'], # the model's output names\n",
        "                  dynamic_axes=dynamic_axes)"
      ],
      "execution_count": null,
      "outputs": []
    },
    {
      "cell_type": "code",
      "metadata": {
        "id": "MreYFi9pBZQV",
        "colab_type": "code",
        "colab": {}
      },
      "source": [
        "num_classes = 2\n",
        "num_kpts=2\n",
        "# get the model using our helper function\n",
        "model, device, dtype=get_model(num_kpts,train_kptHead=2,train_fpn=True)\n",
        "# move model to the right device\n",
        "model.to(device)\n",
        "\n",
        "# construct an optimizer\n",
        "\n",
        "params1 = [p for p in model.roi_heads.keypoint_head.parameters() if p.requires_grad]\n",
        "\n",
        "params2 = [p for p in model.backbone.fpn.parameters() if p.requires_grad]\n",
        "optimizer = torch.optim.SGD([\n",
        "                {'params': params1},\n",
        "                {'params': model.roi_heads.keypoint_predictor.parameters(), 'lr': .1},\n",
        "                {'params': params2, 'lr': .001}\n",
        "            ], lr=.005, momentum=0.9)\n",
        "\"\"\"\n",
        "optim.SGD([\n",
        "                {'params': model.roi_heads.keypoint_head.parameters()},\n",
        "                {'params': model.roi_heads.keypoint_predictor.parameters(), 'lr': .1}\n",
        "            ], lr=.005, momentum=0.9)\n",
        "\"\"\"\n",
        "# and a learning rate scheduler which decreases the learning rate by\n",
        "# 10x every 3 epochs\n",
        "lr_scheduler = torch.optim.lr_scheduler.StepLR(optimizer,\n",
        "                                               step_size=3,\n",
        "                                               gamma=0.95)\n",
        "print(params.__len__())\n",
        "for name,param in model.named_parameters():\n",
        "  if ( param.requires_grad ==True):\n",
        "    print(name)"
      ],
      "execution_count": null,
      "outputs": []
    },
    {
      "cell_type": "code",
      "metadata": {
        "id": "m52-bEQkCny8",
        "colab_type": "code",
        "colab": {}
      },
      "source": [
        "from engine import train_one_epoch, evaluate\n",
        "\n",
        "num_epochs = 50\n",
        "\n",
        "for epoch in range(num_epochs):\n",
        "    # train for one epoch, printing every 10 iterations\n",
        "    train_one_epoch(model, optimizer, data_loader, device, epoch, print_freq=1)\n",
        "    # update the learning rate\n",
        "    lr_scheduler.step()\n",
        "    # evaluate on the test dataset\n",
        "    #evaluate(model, data_loader_test, device=device)"
      ],
      "execution_count": null,
      "outputs": []
    },
    {
      "cell_type": "code",
      "metadata": {
        "id": "s5vl3r9aabwq",
        "colab_type": "code",
        "colab": {}
      },
      "source": [
        "#save model\n",
        "model_save_name = 'classifier4.pth'\n",
        "path = F\"/content/drive/My Drive/{model_save_name}\" \n",
        "torch.save(model.state_dict(), path)"
      ],
      "execution_count": null,
      "outputs": []
    },
    {
      "cell_type": "code",
      "metadata": {
        "id": "TeNMc9i93ClJ",
        "colab_type": "code",
        "colab": {}
      },
      "source": [
        "for names,param in model.named_parameters():\n",
        "  print (param.device)\n",
        "\n",
        "print(image_test)"
      ],
      "execution_count": null,
      "outputs": []
    },
    {
      "cell_type": "code",
      "metadata": {
        "id": "NaycXf4B8vMY",
        "colab_type": "code",
        "colab": {}
      },
      "source": [
        "# For Training\n",
        "images,targets = next(iter(data_loader))\n",
        "images = list(image for image in images)\n",
        "targets = [{k: v for k, v in t.items()} for t in targets]\n",
        "model.eval()\n",
        "output = model(images)   # Returns losses and detections\n",
        "output.__len__()\n"
      ],
      "execution_count": null,
      "outputs": []
    },
    {
      "cell_type": "markdown",
      "metadata": {
        "id": "HOXwLZwFQDbE",
        "colab_type": "text"
      },
      "source": [
        "to download the model"
      ]
    },
    {
      "cell_type": "code",
      "metadata": {
        "id": "ehtWOvsQ1NOl",
        "colab_type": "code",
        "colab": {}
      },
      "source": [
        "\"\"\"\n",
        "from google.colab import files\n",
        "torch.save(model.state_dict(), 'checkpoint.pth')\n",
        "\n",
        "# download checkpoint file\n",
        "files.download('checkpoint.pth')\n",
        "\"\"\""
      ],
      "execution_count": null,
      "outputs": []
    },
    {
      "cell_type": "code",
      "metadata": {
        "id": "aBpA5yFvWIU4",
        "colab_type": "code",
        "colab": {}
      },
      "source": [
        "for images,targets in (iter(data_loader_test)):\n",
        "  images = list(image for image in images)\n",
        "  #targets = [{k: v for k, v in t.items()} for t in targets]\n",
        "  model.eval()\n",
        "  outputs = model(images)\n",
        "\n",
        "  show_result( zip(images,outputs))\n",
        "  \"\"\"\n",
        "  for image, output in zip(images,outputs):\n",
        "    image_idx=0\n",
        "    kpt_idx=0\n",
        "    show_result(image,output['keypoints'][kpt_idx])\n",
        "  \"\"\""
      ],
      "execution_count": null,
      "outputs": []
    },
    {
      "cell_type": "code",
      "metadata": {
        "id": "vs1Pk7_i0c4S",
        "colab_type": "code",
        "colab": {}
      },
      "source": [
        ""
      ],
      "execution_count": null,
      "outputs": []
    },
    {
      "cell_type": "code",
      "metadata": {
        "id": "SwS-EqlR0_v_",
        "colab_type": "code",
        "colab": {}
      },
      "source": [
        ""
      ],
      "execution_count": null,
      "outputs": []
    }
  ]
}